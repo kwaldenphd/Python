{
  "nbformat": 4,
  "nbformat_minor": 0,
  "metadata": {
    "colab": {
      "name": "python-intro-procedure.ipynb",
      "provenance": [],
      "toc_visible": true,
      "authorship_tag": "ABX9TyP+mHgJiI2uI1lAYquH1uQ9",
      "include_colab_link": true
    },
    "kernelspec": {
      "name": "python3",
      "display_name": "Python 3"
    },
    "language_info": {
      "name": "python"
    }
  },
  "cells": [
    {
      "cell_type": "markdown",
      "metadata": {
        "id": "view-in-github",
        "colab_type": "text"
      },
      "source": [
        "<a href=\"https://colab.research.google.com/github/kwaldenphd/Python/blob/main/python_intro_procedure.ipynb\" target=\"_parent\"><img src=\"https://colab.research.google.com/assets/colab-badge.svg\" alt=\"Open In Colab\"/></a>"
      ]
    },
    {
      "cell_type": "markdown",
      "source": [
        "# Getting Started With Python\n",
        "\n",
        "<a href=\"http://creativecommons.org/licenses/by-nc/4.0/\" rel=\"license\"><img style=\"border-width: 0;\" src=\"https://i.creativecommons.org/l/by-nc/4.0/88x31.png\" alt=\"Creative Commons License\" /></a>\n",
        "This tutorial is licensed under a <a href=\"http://creativecommons.org/licenses/by-nc/4.0/\" rel=\"license\">Creative Commons Attribution-NonCommercial 4.0 International License</a>.\n"
      ],
      "metadata": {
        "id": "ayXX0r_B0FDw"
      }
    },
    {
      "cell_type": "markdown",
      "source": [
        "## Lab Overview\n",
        "\n",
        "This lab provides an overview of foundational programming syntax in Python, specifically data types/structures, common methods/functions, loops, and operators."
      ],
      "metadata": {
        "id": "2slhSdG10GCT"
      }
    },
    {
      "cell_type": "markdown",
      "source": [
        "## Acknowledgements\n",
        "\n",
        "[Click here](https://github.com/kwaldenphd/Python/blob/master/acknowledgements.md) for a full list of acknowledgements for this lab."
      ],
      "metadata": {
        "id": "3W9dBqXw0HEC"
      }
    },
    {
      "cell_type": "markdown",
      "source": [
        "# Lab Notebook Template\n",
        "\n",
        "Lab notebook template:\n",
        "- [Jupyter Notebook](https://colab.research.google.com/drive/14Zpi8TabYz-AzqbJZkeK14lhD1i_spze?usp=sharing)"
      ],
      "metadata": {
        "id": "sho21uLb0Qv8"
      }
    },
    {
      "cell_type": "markdown",
      "source": [
        "# `print` statements\n",
        "\n",
        "For each of these examples, copy/paste or retype the code to run each mini program (and learn more about Python's functionality and documentation). Experiment, adapt, or modify these samples as you work through the lab procedure.\n",
        "\n",
        "1. Your first program will contain a single Python statement. Enter the following statement into a code cell.\n",
        "\n",
        "<blockquote>Watch out for quotation marks!</blockquote>"
      ],
      "metadata": {
        "id": "8qJ20LO60SL9"
      }
    },
    {
      "cell_type": "code",
      "source": [
        "print (\"Welcome to the wild world of computer programming!\")"
      ],
      "metadata": {
        "id": "VZbUsD8M0TQo"
      },
      "execution_count": null,
      "outputs": []
    },
    {
      "cell_type": "markdown",
      "source": [
        "2. Run the code cell to see the `print()` statement output.\n",
        "\n",
        "3. The `print()` function will output the value passed to it, in this case a string of characters (letters).\n",
        "\n",
        "4. You can modify the characters or symbols in the quotation marks to print other values.\n",
        "\n",
        "# Variables\n",
        "\n",
        "5. Next, we're going to assign our first variable.\n",
        "\n",
        "6. In Python, a variable is a placeholder for a piece of information. "
      ],
      "metadata": {
        "id": "k0rTPYYt0UlT"
      }
    },
    {
      "cell_type": "code",
      "source": [
        "# assign \"hello world\" message to hello variable\n",
        "hello = \"Hello World\"\n",
        "\n",
        "# print hello variable\n",
        "print(hello)"
      ],
      "metadata": {
        "id": "saEW22cL0VdA"
      },
      "execution_count": null,
      "outputs": []
    },
    {
      "cell_type": "markdown",
      "source": [
        "7. Run this program to see the `print()` statement output.\n",
        "\n",
        "8. In this example, the `\"Hello World\"` string of characters is assigned to a variable named `hello`.\n",
        "\n",
        "9. You can choose variable names, as long as they meet a few conditions...\n",
        "  * Don't include spaces\n",
        "  * No special characters\n",
        "  * Don't begin with a number\n",
        "  * Aren't words that are also commands in Python (for example, `print` is an instruction and can't be a variable name)\n",
        "  \n",
        "10. For more on variables in Python: https://www.w3schools.com/python/python_variables.asp\n",
        "  \n",
        "<blockquote>Q1: In your own words, explain the difference between the print(hello) command we just used and print(“hello”).</blockquote>\n",
        "\n",
        "# Data Types\n",
        "\n",
        "11. Python includes a number of different data types, which can be stored as variables.\n",
        "\n",
        "12. We'll do more with variables later, but for now..."
      ],
      "metadata": {
        "id": "1V62-LRv0Xao"
      }
    },
    {
      "cell_type": "markdown",
      "source": [
        "## Comments\n",
        "\n",
        "13. We can add comments to our code to include information about what is happening in the program.\n",
        "\n",
        "14. In Python, lines that are comments begin with the `#` symbol.\n",
        "\n",
        "15. Going back to a previous `print()` statement example:\n"
      ],
      "metadata": {
        "id": "qxwiN6iI0YnU"
      }
    },
    {
      "cell_type": "code",
      "source": [
        "# assign \"hello world\" message to hello variable\n",
        "hello = \"Hello World\"\n",
        "\n",
        "# print hello variable\n",
        "print(hello)"
      ],
      "metadata": {
        "id": "QH5SDacN0ZbH"
      },
      "execution_count": null,
      "outputs": []
    },
    {
      "cell_type": "markdown",
      "source": [
        "16. We see comments in action- lines that begin with `#` that are part of the program but not instructions or commands.\n",
        "\n",
        "17. To put that another way, comments are for human users, not the machine.\n",
        "\n",
        "18. For more on comments in Python: https://www.w3schools.com/python/python_comments.asp\n",
        "\n",
        "## Numbers\n",
        "\n",
        "19. An integer is a whole number that does not include any decimal (or fractional) values. A float data type includes decimal (or fractional) values."
      ],
      "metadata": {
        "id": "J87jG5OS0alM"
      }
    },
    {
      "cell_type": "code",
      "source": [
        "# printing an integer\n",
        "print(3)\n",
        "\n",
        "# storing an integer to a variable\n",
        "number = 3\n",
        "\n",
        "# show number variable type\n",
        "type(number)\n",
        "\n",
        "# print number variable\n",
        "print(number)"
      ],
      "metadata": {
        "id": "e9sNYFAq0bWH"
      },
      "execution_count": null,
      "outputs": []
    },
    {
      "cell_type": "code",
      "source": [
        "# printing a decimal or float value\n",
        "print(3.5)\n",
        "\n",
        "# store float value to a variable\n",
        "number = 3.5\n",
        "\n",
        "# show number variable type\n",
        "type(number)\n",
        "\n",
        "# print number variable\n",
        "print(number)"
      ],
      "metadata": {
        "id": "Om5fxAQJ0cbP"
      },
      "execution_count": null,
      "outputs": []
    },
    {
      "cell_type": "markdown",
      "source": [
        "<blockquote>It may seem odd at first, but in Python, the \"equals sign\" here does not denote equality. Rather, it is an instruction telling Python to assign the value on its right into the variable on its left.</blockquote>\n",
        "\n",
        "20. For more on numbers in Python: https://www.w3schools.com/python/python_numbers.asp\n",
        "\n",
        "## Strings\n",
        "\n",
        "21. A string is a sequence of characters (letters, numbers, symbols, etc.)\n",
        "\n",
        "22. We can assign strings to a variable, or store them as a variable.\n"
      ],
      "metadata": {
        "id": "wJlMF7E10dtn"
      }
    },
    {
      "cell_type": "code",
      "source": [
        "# assign string to variable\n",
        "s = \"Hello world!\"\n",
        "\n",
        "# show variable type\n",
        "type(s)\n",
        "\n",
        "# print variable\n",
        "print(s)"
      ],
      "metadata": {
        "id": "sVZ5tBpH0ex2"
      },
      "execution_count": null,
      "outputs": []
    },
    {
      "cell_type": "markdown",
      "source": [
        "23. For more on strings in Python: https://www.w3schools.com/python/python_strings.asp\n",
        "\n",
        "# Concatenation\n",
        "\n",
        "24. In Python, we can add or join strings using a concept called concatenation.\n",
        "\n",
        "25. Specifically we can use the `+` symbol to connect two strings.\n",
        "\n",
        "26. Let's look at an example using first and last names:"
      ],
      "metadata": {
        "id": "zb-4Zcfh0f8U"
      }
    },
    {
      "cell_type": "code",
      "source": [
        "# assign first name to variable\n",
        "firstName = \"Katherine\"\n",
        "\n",
        "# assign last name to variable\n",
        "lastName = \"Walden\"\n",
        "\n",
        "# use concatenation to create full name\n",
        "print(firstName + lastName)"
      ],
      "metadata": {
        "id": "ClWuRmYe0g3f"
      },
      "execution_count": null,
      "outputs": []
    },
    {
      "cell_type": "markdown",
      "source": [
        "27. We notice the last program's output doesn't include a space between first and last name.\n",
        "\n",
        "28. We can address this issue using...concatenation."
      ],
      "metadata": {
        "id": "sQCAht0c0hz3"
      }
    },
    {
      "cell_type": "code",
      "source": [
        "# assign first name to variable\n",
        "firstName = \"Katherine\"\n",
        "\n",
        "# assign last name to variable\n",
        "lastName = \"Walden\"\n",
        "\n",
        "# use concatenation to create full name with space between strings\n",
        "print(firstName + \" \" + lastName)"
      ],
      "metadata": {
        "id": "L_jftpC70iq2"
      },
      "execution_count": null,
      "outputs": []
    },
    {
      "cell_type": "markdown",
      "source": [
        "29. We could also use concatenation to create a new `fullName` variable."
      ],
      "metadata": {
        "id": "wsGypCvp0jmw"
      }
    },
    {
      "cell_type": "code",
      "source": [
        "# assign first name to variable\n",
        "firstName = \"Katherine\"\n",
        "\n",
        "# assign last name to variable\n",
        "lastName = \"Walden\"\n",
        "\n",
        "# use concatenation to create full name and assign to variable\n",
        "fullName = firstName + \" \" + lastName\n",
        "\n",
        "# pring fullName variable\n",
        "print(fullName)"
      ],
      "metadata": {
        "id": "O-zTO-s80klV"
      },
      "execution_count": null,
      "outputs": []
    },
    {
      "cell_type": "markdown",
      "source": [
        "30. For more on concatenation: https://www.w3schools.com/python/python_strings_concatenate.asp\n",
        "\n",
        "# Operators\n",
        "\n",
        "31. Python includes a few different types of operators that can be used with values and variables.\n",
        "\n",
        "<table>\n",
        " <tr><td>Operator Type</td>\n",
        " <td>Example</td>\n",
        " <td>Description</td>\n",
        " </tr>\n",
        " <tr><td>Arithmetic operators</td>\n",
        " <td><code>+, -, *, /</code></td>\n",
        " <td>Used to perform arithmetic operations or calculations</td>\n",
        " </tr>\n",
        " <tr><td>Assignment operators</td>\n",
        " <td><code>=</code></td>\n",
        " <td>Used to assign values to variables</td>\n",
        " </tr>\n",
        " <tr><td>Comparison operators</td>\n",
        " <td><code>==, !=, >, <</code></td>\n",
        " <td>Used to compare two values</td>\n",
        " </tr>\n",
        " <tr><td>Logical operators</td>\n",
        " <td><code>and, or, not</code></td>\n",
        " <td>Used to combine conditional statements</td>\n",
        " </tr>\n",
        "</table>\n"
      ],
      "metadata": {
        "id": "M-fJV86J0mTP"
      }
    },
    {
      "cell_type": "markdown",
      "source": [
        "## Arithmetic Operators\n",
        "\n",
        "32. A few standard operators we can use in Python to perform arithmetic operations.\n",
        "- `+` (plus, sum)\n",
        "- `-` (minus, subtraction)\n",
        "- `*` (times, multiplication)\n",
        "- `//` (divide, integer division)\n",
        "- `/` (divide, float division)\n",
        "- `%` (modulo operator, used to return/retrieve remainder after division)\n",
        "- `**` (exponent)\n",
        "\n",
        "33. Python follows the PEDMAS order of operations. When in doubt, use parenthesis!\n",
        "\n",
        "<blockquote>PEDMAS order of operations: parenthesis, exponents, multiplication, division, addition, subtraction</blockquote>"
      ],
      "metadata": {
        "id": "McF2QJ5Y21ej"
      }
    },
    {
      "cell_type": "code",
      "source": [
        "# a few examples of arithmetic operators in action\n",
        "print(2+3)\n",
        "print(2-3)\n",
        "print(2*3)\n",
        "print(2/3)"
      ],
      "metadata": {
        "id": "Cv4BsU9d0nMq"
      },
      "execution_count": null,
      "outputs": []
    },
    {
      "cell_type": "markdown",
      "source": [
        "## Comparison Operators\n",
        "\n",
        "34. Python's comparison operators will return a value of `TRUE` or `FALSE` based on whether the comparison is true or false.\n",
        "\n",
        "<table>\n",
        " <tr><td>Operator</td>\n",
        " <td>Name</td>\n",
        " <td>Example</td>\n",
        " </tr>\n",
        " <tr><td><code>==</code></td>\n",
        " <td>Equal</td>\n",
        " <td><code>x == y</code></td>\n",
        " </tr>\n",
        " <tr><td><code>!=</code></td>\n",
        " <td>Not equal</td>\n",
        " <td><code>x != y</code></td>\n",
        " </tr>\n",
        " <tr><td><code>></code></td>\n",
        " <td>Greater than</td>\n",
        " <td><code>x > y</code</td>\n",
        "  </tr>\n",
        "  <tr><td><code><</code></td>\n",
        "   <td>Less than</td>\n",
        "   <td><code>x < y</code</td>\n",
        "  </tr>\n",
        "  <tr><td><code>>=</code></td>\n",
        "   <td>Greater than or equal to</td>\n",
        "   <td><code>x >= y</code></td>\n",
        "  </tr>\n",
        "  <tr><td><code><=</code></td>\n",
        "   <td>Less than or equal to</td>\n",
        "   <td><code>x <= y</code></td>\n",
        "  </tr>\n",
        "  </table>\n",
        "  \n",
        "35. These comparison operators compare two values and return `True` or `False`.\n",
        "\n",
        "36. A few examples of comparison operators in Python:"
      ],
      "metadata": {
        "id": "KI-Zz1qp0pYo"
      }
    },
    {
      "cell_type": "code",
      "source": [
        "# assign integer to variable\n",
        "x=4\n",
        "\n",
        "# show operator type\n",
        "print(type(x == 4))\n",
        "\n",
        "# output true/false based on comparison statement\n",
        "print(x==4)"
      ],
      "metadata": {
        "id": "YlTU4sxJ0que"
      },
      "execution_count": null,
      "outputs": []
    },
    {
      "cell_type": "code",
      "source": [
        "# in some cases, operators can be chained or combined\n",
        "\n",
        "# will output true because comparison is true\n",
        "print(1 < 2 < 3)\n",
        "\n",
        "# will output false because comparison is false\n",
        "print(10 < 2 < 3)"
      ],
      "metadata": {
        "id": "M429zXzt0sWx"
      },
      "execution_count": null,
      "outputs": []
    },
    {
      "cell_type": "code",
      "source": [
        "# assigning integer values to variables\n",
        "x = 3\n",
        "y = 18\n",
        "z = 10\n",
        "\n",
        "# comparing variables (will return true/false based on whether the comparison is true)\n",
        "print (x < y < z)"
      ],
      "metadata": {
        "id": "_4QLK8FVAA-P"
      },
      "execution_count": null,
      "outputs": []
    },
    {
      "cell_type": "markdown",
      "source": [
        "37. For more on comparison operators in Python: https://www.w3schools.com/python/gloss_python_comparison_operators.asp\n",
        "\n",
        "## Logical Operators\n",
        "\n",
        "38. We can also combine comparison operators using Python's logical operators.\n",
        "\n",
        "<table>\n",
        " <tr><td>Operator</td>\n",
        " <td>Description</td>\n",
        " <td>Example</td>\n",
        " </tr>\n",
        " <tr><td><code>and</code></td>\n",
        " <td>Returns <code>True</code> if both statements are true</td>\n",
        " <td><code> x < 5 and x < 10</code></td>\n",
        " </tr>\n",
        " <tr><td><code>or</code></td>\n",
        " <td>Returns <code>True</code> if one of the statements is true</td>\n",
        " <td><code>x < 5 or x < 4</code></td>\n",
        " </tr>\n",
        " <tr><td><code>not</code></td>\n",
        " <td>Reverses the result; returns <code>False</code> if the result is <code>True</code></td>\n",
        " <td><code>not(x < 5 and X < 10)</code></td>\n",
        " </tr>\n",
        " </table"
      ],
      "metadata": {
        "id": "7p1RAMge0txg"
      }
    },
    {
      "cell_type": "markdown",
      "source": [
        "## Additional Resources\n",
        "\n",
        "39. To learn more about operators in Python:\n",
        "  * [Arithmetic operators](https://www.w3schools.com/python/gloss_python_arithmetic_operators.asp)\n",
        "  * [Comparison operators](https://www.w3schools.com/python/gloss_python_comparison_operators.asp)\n",
        "  * [Logical operators](https://www.w3schools.com/python/python_operators.asp)"
      ],
      "metadata": {
        "id": "H3iwsw060uzx"
      }
    },
    {
      "cell_type": "markdown",
      "source": [
        "# Lists\n",
        "\n",
        "40. Python allows us to store information in a few different ways. \n",
        "\n",
        "41. Let’s start with lists. \n",
        "  * Lists are an ordered collection of items\n",
        "  * They can be numbers or strings. \n",
        "  * The individual values in a list are called elements or items\n",
        "  * Lists are typically assigned to a variable\n",
        "  * Items in a list are contained within `[ ]` and the individual items are separated by a comma (`,`). \n"
      ],
      "metadata": {
        "id": "ctJ5djFa0wBs"
      }
    },
    {
      "cell_type": "markdown",
      "source": [
        "## Lists of Strings\n",
        "\n",
        "42. Write a list of a few of your favorite things."
      ],
      "metadata": {
        "id": "bo7j4mwi0xB_"
      }
    },
    {
      "cell_type": "code",
      "source": [
        "cookies = ['chocolate chip', 'snickerdoodle', 'peanut butter', 'sugar']\n"
      ],
      "metadata": {
        "id": "gg5MN1eU0yhq"
      },
      "execution_count": null,
      "outputs": []
    },
    {
      "cell_type": "markdown",
      "source": [
        "43. We can print this list with a print function `print(cookies)`, but Python returns a representation of the list, just as we entered it.\n",
        "`['chocolate chip', 'snickerdoodle', 'peanut butter', 'sugar']`"
      ],
      "metadata": {
        "id": "6bSmj0uI0zkO"
      }
    },
    {
      "cell_type": "markdown",
      "source": [
        "44. This isn’t particularly useful by itself; however, we can use the position of each item (called the *index*) to perform different functions.\n",
        "\n",
        "45. Add a print function calling a specific item on your list."
      ],
      "metadata": {
        "id": "ZbTsqqgN01mj"
      }
    },
    {
      "cell_type": "code",
      "source": [
        "print(cookies[0])"
      ],
      "metadata": {
        "id": "F9FZPOy-00xQ"
      },
      "execution_count": null,
      "outputs": []
    },
    {
      "cell_type": "markdown",
      "source": [
        "46. This command returns the first item on my list. This is the item in the `0` position on my list.\n",
        "\n",
        "```Python\n",
        "chocolate chip\n",
        "```\n",
        "\n",
        "47. Items in a list are indexed with a number, **beginning with 0 NOT 1.**\n",
        "\n",
        "48. A `print` command that outputs the last item on my list of four items would look like this."
      ],
      "metadata": {
        "id": "GXxIoJWZ07M5"
      }
    },
    {
      "cell_type": "code",
      "source": [
        "cookies = ['chocolate chip', 'snickerdoodle', 'peanut butter', 'sugar']\n",
        "print(cookies[3])"
      ],
      "metadata": {
        "id": "om8g8uQS098H"
      },
      "execution_count": null,
      "outputs": []
    },
    {
      "cell_type": "markdown",
      "source": [
        "49. We can also work backwards on our list using negative numbers. For example, to call the last item on the list we could also use the index value `-1`."
      ],
      "metadata": {
        "id": "3ToazZMU1BCI"
      }
    },
    {
      "cell_type": "code",
      "source": [
        "cookies = ['chocolate chip', 'snickerdoodle', 'peanut butter', 'sugar']\n",
        "print(cookies[-1])"
      ],
      "metadata": {
        "id": "5nMQA9od1CB-"
      },
      "execution_count": null,
      "outputs": []
    },
    {
      "cell_type": "markdown",
      "source": [
        "50. To return the second to last item, we could use -2. For the third to last -3, etc. etc.\n",
        "\n",
        "51. We can concatenate our list items in strings."
      ],
      "metadata": {
        "id": "dPmLAROY1DTh"
      }
    },
    {
      "cell_type": "code",
      "source": [
        "cookies = ['chocolate chip', 'snickerdoodle', 'peanut butter', 'sugar']\n",
        "print(\"My favorite cookie to bake is \" + cookies[1] + \".\")"
      ],
      "metadata": {
        "id": "EB2pdvtt1EaN"
      },
      "execution_count": null,
      "outputs": []
    },
    {
      "cell_type": "markdown",
      "source": [
        "52. Which outputs `My favorite cookie to bake is snickerdoodle.`\n",
        "\n",
        "53. We can  use `append` to add values to a list\n"
      ],
      "metadata": {
        "id": "PfLi0o-U1Fzw"
      }
    },
    {
      "cell_type": "code",
      "source": [
        "# create empty list and assign to variable\n",
        "myPets = []\n",
        "\n",
        "# add one string to list\n",
        "myPets.append('Christy Matthewson')\n",
        "\n",
        "# add another string to list\n",
        "myPets.append('Smoky Jo Wood')\n",
        "\n",
        "# add a third string to list\n",
        "myPets.append('Sandy Koufax')\n",
        "\n",
        "# show list\n",
        "print(my_pets)"
      ],
      "metadata": {
        "id": "vH-tREdP1Lrp"
      },
      "execution_count": null,
      "outputs": []
    },
    {
      "cell_type": "markdown",
      "source": [
        "54. In this block of code, we started with an empty list `[]`. Then the next lines with `append` added new items to the list.\n",
        "\n",
        "## Lists of Numbers\n",
        "\n",
        "55. We can also create a list of numbers in Python\n"
      ],
      "metadata": {
        "id": "BPE8V6nb1NCp"
      }
    },
    {
      "cell_type": "code",
      "source": [
        "# create list with numbers and assign to variable\n",
        "num_list = [0, 1, 1, 2, 3, 5, 8, 13, 21, 34, 55, 89, 144, 233, 377]\n",
        "\n",
        "# show first number in list\n",
        "num_list[0]\n",
        "\n",
        "# show last number in list\n",
        "num_list[-1]\n",
        "\n",
        "# show full list\n",
        "num_list"
      ],
      "metadata": {
        "id": "J17-QJ3I1OEq"
      },
      "execution_count": null,
      "outputs": []
    },
    {
      "cell_type": "markdown",
      "source": [
        "<blockquote>Q2: Create your own list of numbers or strings, using the examples in the lab as a starting point. What is the number position for each of the items in your list? How would you return the value of the first item? How would you return the value of the last item?</blockquote>\n",
        "\n",
        "# Dictionaries\n",
        "\n",
        "<p align=\"center\"><a href=\"https://github.com/kwaldenphd/python-dictionaries-sets/blob/master/figures/Dic_1.png?raw=true\"><img class=\"aligncenter\" src=\"https://github.com/kwaldenphd/python-dictionaries-sets/blob/master/figures/Dic_1.png?raw=true\" /></a></p>\n",
        "\n",
        "<p align=\"center\"><a href=\"https://github.com/kwaldenphd/python-dictionaries-sets/blob/master/figures/Dic_2.png?raw=true\"><img class=\"aligncenter\" src=\"https://github.com/kwaldenphd/python-dictionaries-sets/blob/master/figures/Dic_2.png?raw=true\" /></a></p>\n",
        "\n",
        "56. A dictionary is a mapping between a set of indices (keys) and a set of values. \n",
        "\n",
        "57. Each key maps to a value. \n",
        "\n",
        "58.  The association of a key and a value is called a key-value pair."
      ],
      "metadata": {
        "id": "bv6y4pYC1PlH"
      }
    },
    {
      "cell_type": "markdown",
      "source": [
        "## Creating a Dictionary\n",
        "\n",
        "59. We have two options for creating a dictionary.\n",
        "\n",
        "60. We can use the `dict()` function or the `{}` syntax.\n",
        "\n",
        "61. Examples for each:"
      ],
      "metadata": {
        "id": "TRGI-VNH1R7y"
      }
    },
    {
      "cell_type": "code",
      "source": [
        "# creating empty dictionary using dict()\n",
        "english_to_french = dict({})\n",
        "\n",
        "# check variable type\n",
        "type(english_to_french)\n",
        "\n",
        "# create dictionary this time with key-value pairs\n",
        "english_to_french = dict({\n",
        "  'one': 'un',\n",
        "  'two': 'deux',\n",
        "  'three': 'trois',\n",
        "  'four': 'quatre',\n",
        "  'five': 'cinq'\n",
        "})"
      ],
      "metadata": {
        "id": "1VoBqekJ1Q89"
      },
      "execution_count": null,
      "outputs": []
    },
    {
      "cell_type": "code",
      "source": [
        "# create empty dictionary using curly brackets {}\n",
        "english_to_french = {}\n",
        "\n",
        "# check variable type\n",
        "type(english_to_french)\n",
        "\n",
        "# create dictionary this time with key-value pairs\n",
        "english_to_french = {\n",
        "  'one': 'un',\n",
        "  'two': 'deux',\n",
        "  'three': 'trois',\n",
        "  'four': 'quatre',\n",
        "  'five': 'cinq'\n",
        "}"
      ],
      "metadata": {
        "id": "k31vvX101VBO"
      },
      "execution_count": null,
      "outputs": []
    },
    {
      "cell_type": "markdown",
      "source": [
        "## Interacting With A Dictionary\n",
        "\n",
        "62. Now that we have a dictionary, we can start to interact with values in the dictionary."
      ],
      "metadata": {
        "id": "Pd1Kk9Ht1b6r"
      }
    },
    {
      "cell_type": "code",
      "source": [
        "print(english_to_french)"
      ],
      "metadata": {
        "id": "_X9ucU8i1cvA"
      },
      "execution_count": null,
      "outputs": []
    },
    {
      "cell_type": "markdown",
      "source": [
        "63. Notice that when we print the dictionary, the key-value pairs are **unsorted** and do not appear in the order in which we added them.\n",
        "\n",
        "64. Due to the nature of the dictionary data structure, we cannot make any assumptions about the order in which items appear in the dictionary.\n",
        "\n",
        "65. We can use the index operator to read the value for a particular key."
      ],
      "metadata": {
        "id": "Z8ROEq7j1eH4"
      }
    },
    {
      "cell_type": "code",
      "source": [
        "# access value for 'one' key\n",
        "english_to_french['one']"
      ],
      "metadata": {
        "id": "kGm2fbTZ1fMn"
      },
      "execution_count": null,
      "outputs": []
    },
    {
      "cell_type": "markdown",
      "source": [
        "66. If we try to access the value for a key that does not exist, Python will return a KeyError.\n"
      ],
      "metadata": {
        "id": "B5ZeZDMF1gX3"
      }
    },
    {
      "cell_type": "code",
      "source": [
        "english_to_french['asdf']"
      ],
      "metadata": {
        "id": "56SiE1mv1hDa"
      },
      "execution_count": null,
      "outputs": []
    },
    {
      "cell_type": "markdown",
      "source": [
        "67. We can use the `.keys()` method to get a list of all keys in the dictionary.\n"
      ],
      "metadata": {
        "id": "cihDst4R1hxx"
      }
    },
    {
      "cell_type": "code",
      "source": [
        "print(english_to_french.keys())"
      ],
      "metadata": {
        "id": "ss4kb1x21ie5"
      },
      "execution_count": null,
      "outputs": []
    },
    {
      "cell_type": "markdown",
      "source": [
        "68. We can use the `.values()` method to get a list of all the values in the dictionary.\n"
      ],
      "metadata": {
        "id": "zkwvMVK61jlg"
      }
    },
    {
      "cell_type": "code",
      "source": [
        "print(english_to_french.values())"
      ],
      "metadata": {
        "id": "g8cqYmQu1kTJ"
      },
      "execution_count": null,
      "outputs": []
    },
    {
      "cell_type": "markdown",
      "source": [
        "69. For more on Python dictionaries: https://www.w3schools.com/python/python_dictionaries.asp\n",
        "\n",
        "# `if, else, elif` statements\n",
        "\n",
        "70. We can use conditional statements to change the behavior of a program based on whether specific conditions are or are not met.\n",
        "\n",
        "71. To put this another way, conditional statements check boolean expressions (i.e. conditions), and change the behavior of the program accordingly.\n"
      ],
      "metadata": {
        "id": "bosp9cvH1leR"
      }
    },
    {
      "cell_type": "markdown",
      "source": [
        "## Operator Review\n",
        "\n",
        "72. Operators used to compare two objects:\n",
        "- `==`    equal to\n",
        "- `==`    equal to\n",
        "- `!=`    not equal to\n",
        "- `>=`    greater than or equal to\n",
        "- `>`     greater than\n",
        "- `<`     less than\n",
        "- `<=`    less than or equal to\n",
        "\n",
        "73. Boolean logical operators:\n",
        "- `and`   both must be true\n",
        "- `or`    one or both must be true\n",
        "- `not`   reverses the truth value\n",
        "\n",
        "74. We can use and test for conditions in a few key ways, specifically through `if` statements and `loops`.\n",
        "\n",
        "75. More on loops later, but for now...\n",
        "\n",
        "76. Python's comparison operators serve as conditional tests that return a True or False."
      ],
      "metadata": {
        "id": "c6RGEs191nRE"
      }
    },
    {
      "cell_type": "code",
      "source": [
        "# set the variable number to 10\n",
        "number = 10\n",
        "\n",
        "# the following statements will return true or false\n",
        "\n",
        "# EQUAL !==\n",
        "print(number == 15)\n",
        "print(number ==10)\n",
        "\n",
        "# GREATER THAN >\n",
        "print(number > 10)\n",
        "print(number > 4)\n",
        "\n",
        "# LESS THAN <\n",
        "print(number < 10)\n",
        "print(number < 15)\n",
        "\n",
        "# GREATER THAN OR EQUAL TO >=\n",
        "print(number >= 15)\n",
        "print(number >= 10)\n",
        "\n",
        "# LESS THAN OR EQUAL TO <=\n",
        "print(number <= 4)\n",
        "print(number <= 10)\n",
        "\n",
        "#TESTING MULTIPLE CONDITIONS\n",
        "\n",
        "#AND\n",
        "print(number > 1 and number <20)\n",
        "\n",
        "#OR\n",
        "print(number ==10 or number ==20)"
      ],
      "metadata": {
        "id": "g5ybQDDe1pC2"
      },
      "execution_count": null,
      "outputs": []
    },
    {
      "cell_type": "markdown",
      "source": [
        "## `if` Statements\n",
        "\n",
        "77. `if` statements use the `if` keyword to test if a condition is true.\n",
        "\n",
        "78. `if` statements are conditional, meaning that there is a test to determine if a statement is true or false, and then the computer takes some defined action.\n",
        "\n",
        "79. The basic syntax for an `if` statement:\n",
        "\n",
        "```Python\n",
        "if condition:\n",
        " statement(s)\n",
        "```\n",
        "\n",
        "80. The `if` statement tests if a particular condition is true. And if so, executes the command nested under the initial `if` statement.\n",
        "\n",
        "81. To illustrate that another way:\n",
        "\n",
        "```Python\n",
        "if this condition is true:\n",
        " then do this thing\n",
        "```\n",
        "\n",
        "82. A couple things to note about this syntax:\n",
        "- A colon always follows the first line of an `if` statement\n",
        "- The code that will run if the statement is true is nested or intented beneath the `if` keyword\n",
        "\n",
        "83. For example, let's say we have a Python program where the variable `n` equals `0`.\n",
        "\n",
        "84. We want to write a program that, if `n` equals `0`, prints the message `n is zero`.\n",
        "\n",
        "85. We can do that using an `if` statement."
      ],
      "metadata": {
        "id": "HABSSwH51uhk"
      }
    },
    {
      "cell_type": "code",
      "source": [
        "n = 0\n",
        "\n",
        "if n == 0:\n",
        " print('n is zero')"
      ],
      "metadata": {
        "id": "zPswZO9g1v02"
      },
      "execution_count": null,
      "outputs": []
    },
    {
      "cell_type": "markdown",
      "source": [
        "## `if-else` Statements\n",
        "\n",
        "86. Suppose we want to print one message when the condition (`number > 0`) is true, and a different message when the condition is false. \n",
        "\n",
        "87. We can do that by using an `else` clause along with an `if` keyword.\n",
        "\n",
        "88. The basic syntax for `if-else`:\n",
        "\n",
        "```Python\n",
        "if condition:\n",
        " statement(s)\n",
        "else:\n",
        " statement(s)\n",
        "```\n",
        "\n",
        "89. The statement indented beneath the `if` keyword will only run when the `if` condition is true.\n",
        "\n",
        "90. In an `if-else` statement, the statement indented beneath `else` will only run if the `if` condition is not true (or false).\n",
        "\n",
        "91. An example that illustrates this logic:"
      ],
      "metadata": {
        "id": "8tlfj0F61yFf"
      }
    },
    {
      "cell_type": "code",
      "source": [
        "# ask user to enter a number\n",
        "number = input(\"Enter a number: \")\n",
        "\n",
        "# test if number is greater than zero\n",
        "if number > 0:\n",
        "  print (\"That number is positive.\")\n",
        "\n",
        "# if number is not greater than zero\n",
        "else:\n",
        "  print (\"Definitely NOT positive.\")\n",
        "\n",
        "# message that prints at end of program\n",
        "print (\"This message prints every time.\")"
      ],
      "metadata": {
        "id": "2CFofPKQ1zlo"
      },
      "execution_count": null,
      "outputs": []
    },
    {
      "cell_type": "markdown",
      "source": [
        "## `elif` statements\n",
        "\n",
        "92. We can also use the `elif` keyword along with the `if` keyword to introduce a new condition. \n",
        "\n",
        "93. Python will test the `elif` condition if previous conditions are not true.\n"
      ],
      "metadata": {
        "id": "qiw8vYxv109L"
      }
    },
    {
      "cell_type": "code",
      "source": [
        "# elif statement example\n",
        "\n",
        "# declares x variable\n",
        "x = 1\n",
        "\n",
        "# block of code that runs if x is less than 0\n",
        "if x < 0:\n",
        " print(\"x is less than 0\")\n",
        "\n",
        "# block of code that runs if x equals zero\n",
        "elif x == 0:\n",
        " print(\"x is equal to 0\")\n",
        "\n",
        "# block of code that runs if x is greater than 0\n",
        "else:\n",
        " print(\"x is greater than 0\")"
      ],
      "metadata": {
        "id": "IJDXsmU511-_"
      },
      "execution_count": null,
      "outputs": []
    },
    {
      "cell_type": "code",
      "source": [
        "# another elif example\n",
        "\n",
        "# assign a variable \n",
        "a = 33\n",
        "\n",
        "# assign b variable \n",
        "b = 33\n",
        "\n",
        "# conditional statement using if\n",
        "if b > 1:\n",
        " print(\"b is greater than a\")\n",
        " \n",
        "# conditional statment using elif to test, only when if statement is false\n",
        "elif a == b:\n",
        " print(\"a and b are equal\")"
      ],
      "metadata": {
        "id": "Vn4c9p0u13c8"
      },
      "execution_count": null,
      "outputs": []
    },
    {
      "cell_type": "markdown",
      "source": [
        "94. For more information on `if, else, elif`: https://www.w3schools.com/python/python_conditions.asp\n",
        "\n",
        "# Loops\n",
        "\n",
        "95. Loop statements are a type of conditional statement that rely on the underlying logic of conditional execution.\n",
        "\n",
        "96. In Python, loops repeatedly execute a series of tasks.\n",
        "- Key term: *loop(s), looping*\n",
        "\n",
        "97. Each time through the body of a loop is called an iteration.\n",
        "- Key term: *iteration*\n",
        "\n",
        "98. An iteration can involve things like iterating through items in a list or testing if specific conditions are met, and then doing “something” as the result or endpoint for the loop."
      ],
      "metadata": {
        "id": "vCvPeMHS137F"
      }
    },
    {
      "cell_type": "markdown",
      "source": [
        "## `for` Loops\n",
        "\n",
        "99. `for` loops let us iterate through a definite set of objects.\n",
        "\n",
        "100. In each iteration through the `for` loop, Python will:\n",
        "- Extract one element from the dataset\n",
        "- Execute the body of the `for` loop using the item bound to the element\n",
        "- Go back to the first step\n",
        "- Keep iterating through the loop until reaching the end of the dataset\n",
        "\n",
        "101. The basic syntax in a `for` loop:\n",
        "\n",
        "```Python\n",
        "for item in dataset:\n",
        " statement(s)\n",
        "```\n",
        "\n",
        "102. In this syntax, `item` is a placeholder for each element in `dataset`. \n",
        "\n",
        "103. You can replace `item` with another word or letter character.\n",
        "\n",
        "```Python\n",
        "for i in dataset\n",
        "```\n",
        "\n",
        "104. In this syntax, `dataset` stands for the list of items we want Python to iterate over.\n",
        "\n",
        "105. That list of items could be a list variable, a list of numbers, a string of characters, etc.\n"
      ],
      "metadata": {
        "id": "Tta876IT17cD"
      }
    },
    {
      "cell_type": "markdown",
      "source": [
        "### `for` Loops and Lists of Numbers\n",
        "\n",
        "106. Let's say we have a list of numbers, and we want Python to iterate through each number in the list and print the number."
      ],
      "metadata": {
        "id": "yBO5y8mj18iP"
      }
    },
    {
      "cell_type": "code",
      "source": [
        "for i in [0, 1, 2, 3]:\n",
        " print(i)"
      ],
      "metadata": {
        "id": "v5VBU3fP19Q4"
      },
      "execution_count": null,
      "outputs": []
    },
    {
      "cell_type": "markdown",
      "source": [
        "107. Alternatively, we could create a variable for our list of numbers.\n"
      ],
      "metadata": {
        "id": "26vKd5jx1-GD"
      }
    },
    {
      "cell_type": "code",
      "source": [
        "# create list of numbers\n",
        "number_list = [0, 1, 2, 3]\n",
        "\n",
        "# for loop\n",
        "for i in number_list:\n",
        " print(i)"
      ],
      "metadata": {
        "id": "4XmjBx0B1-8w"
      },
      "execution_count": null,
      "outputs": []
    },
    {
      "cell_type": "markdown",
      "source": [
        "108. The loop command steps through the list one value at a time. \n",
        "\n",
        "109. The loop continues until it reaches the end of the list. \n",
        "\n",
        "### `for` Loops and Strings\n",
        "\n",
        "110. We can also use a `for` loop to iterate over a list of strings.\n",
        "\n",
        "111. Let's say we have a list of pepper types."
      ],
      "metadata": {
        "id": "UqjOoulS2AAd"
      }
    },
    {
      "cell_type": "code",
      "source": [
        "peppers = [\"bell\", \"poblano\", \"jalapeno\", “banana”, “chile”, “cayenne”]\n"
      ],
      "metadata": {
        "id": "T7MXX2Qa2A1o"
      },
      "execution_count": null,
      "outputs": []
    },
    {
      "cell_type": "markdown",
      "source": [
        "112. We can use a `for` loop to iterate over each string in the list.\n"
      ],
      "metadata": {
        "id": "vbLz2jjr2Bfb"
      }
    },
    {
      "cell_type": "code",
      "source": [
        "peppers = [\"bell\", \"poblano\", \"jalapeno\", “banana”, “chile”, “cayenne”]\n",
        "\n",
        "for x in peppers:\n",
        " print(x)"
      ],
      "metadata": {
        "id": "yIPGKWSE2C1O"
      },
      "execution_count": null,
      "outputs": []
    },
    {
      "cell_type": "markdown",
      "source": [
        "113. We can also use a `for` loop to iterate through characters in a single string.\n",
        "\n",
        "114. Let's say we want to iterate over the characters in the string `elements`."
      ],
      "metadata": {
        "id": "lN2-N-lm2EVD"
      }
    },
    {
      "cell_type": "code",
      "source": [
        "for x in 'elements':\n",
        " print(x)"
      ],
      "metadata": {
        "id": "HdWmP6L62FG4"
      },
      "execution_count": null,
      "outputs": []
    },
    {
      "cell_type": "code",
      "source": [
        "# another example of iterating over characters in a string\n",
        "\n",
        "string = 'elements'\n",
        "\n",
        "for x in string:\n",
        " print(x)"
      ],
      "metadata": {
        "id": "LbN0oE5d2GH2"
      },
      "execution_count": null,
      "outputs": []
    },
    {
      "cell_type": "markdown",
      "source": [
        "115. Let's start combining `for` loops with some the other concepts we've covered.\n"
      ],
      "metadata": {
        "id": "kTTwjP592G7d"
      }
    },
    {
      "cell_type": "code",
      "source": [
        "#loops through a list of the members of the House Stark.\n",
        "\n",
        "characters = ['Arya', ' Benjen', 'Bran', 'Catelyn', 'Eddard', 'Rickon', 'Robb', 'Sansa']\n",
        "\n",
        "for character in characters:\n",
        "  print(character.title() + \"Stark\")"
      ],
      "metadata": {
        "id": "izyN_pO82If8"
      },
      "execution_count": null,
      "outputs": []
    },
    {
      "cell_type": "markdown",
      "source": [
        "<blockquote>Note the use of the plural for the name of the list and the singular for the individual item is not required. We are just declaring variables here. We can use anything to name the individual items (e.g. for person in characters). All this does is set a new variable for the individual item. Standard convention is to use the plural and singular terms so that the person reading the code can interpret what it is doing.</blockquote>\n",
        "\n",
        "116. Remember the loop command steps through the list one value at a time. The loop continues until it reaches the end of the list. \n",
        "\n",
        "117. In this case, for each item in the list called `“characters”` the program prints the value of each `“character”` in the list concatenated with the string `\" Stark”`. \n",
        "\n",
        "118. This produces the output:\n",
        "```\n",
        "Arya Stark\n",
        "Benjen Stark\n",
        "Bran Stark\n",
        "Catelyn Stark\n",
        "Eddard Stark\n",
        "Rickon Stark\n",
        "Robb Stark\n",
        "Sansa Stark\n",
        "```\n",
        "\n",
        "119. For more information on `for` loops: https://www.w3schools.com/python/python_for_loops.asp\n",
        "\n",
        "## `while` Loops\n",
        "\n",
        "120. Another way to modify the control flow of a program is to have it execute one or more statements repeatedly.\n",
        "\n",
        "121. A `while` loop will test for an initial condition and continue iterating through the loop until the condition is `False`.\n",
        "\n",
        "122. In each iteration through the `while` loop, Python will:\n",
        "- Evaluate the initial condition (which is a Boolean true/false expression)\n",
        "- If the condition is `False`, exit the loop and continue the program\n",
        "- If the condition is `True`, then execute other statements in the body of the loop and return to the beginning of the loop\n",
        "\n",
        "123. The basic syntax for a `while` loop:\n",
        "\n",
        "```Python\n",
        "while condition:\n",
        " statement(s)\n",
        "```\n",
        "\n",
        "124. To express this logic another way:\n",
        "\n",
        "```Python\n",
        "while THIS CONDITION IS TRUE\n",
        " DO THIS THING\n",
        "```\n",
        "\n"
      ],
      "metadata": {
        "id": "eq8ouw6t2JQp"
      }
    },
    {
      "cell_type": "markdown",
      "source": [
        "### `while` Loop Examples"
      ],
      "metadata": {
        "id": "EiR5ruES2ObZ"
      }
    },
    {
      "cell_type": "markdown",
      "source": [
        "#### `while` Loop Example A\n",
        "\n",
        "125. Let's look at a sample `while` loop that uses the `<` (less than) comparison operator."
      ],
      "metadata": {
        "id": "aau_e94N2PwL"
      }
    },
    {
      "cell_type": "code",
      "source": [
        "n = 0\n",
        "\n",
        "while n < 10:\n",
        " print(n)\n",
        " n = n +1"
      ],
      "metadata": {
        "id": "619Geg1H2Qqb"
      },
      "execution_count": null,
      "outputs": []
    },
    {
      "cell_type": "markdown",
      "source": [
        "126. To walk through what is happening in each line of this program...\n",
        "\n",
        "127. `n=0` assigns the value zero (0) to the variable `n`.\n",
        "\n",
        "128. `n < 10` is a conditional statement that will return `True` as long as `n` is less than `10`.\n",
        "\n",
        "129. So `while n < 10` sets up a `while` loop in which the body of the loop (the lines of code nested or indented beneath the first line of the loop) will run as long as the initial condition is `true`.\n",
        "\n",
        "130. The first line in the body of the loop `print(n)` prints the value of `n` for that iteration.\n",
        "\n",
        "131. The second line in the body of the loop `n = n+1` reassigns the value of `n` to be `n + 1`.\n",
        "\n",
        "132. After executing both lines in the body of the loop, the next iteration of the loop begins by evaluating the `n < 10` conditional statement.\n",
        "\n",
        "#### `while` Loop Example B\n",
        "\n",
        "133. Another example of a `while` loop."
      ],
      "metadata": {
        "id": "a2MvlIbC2SNi"
      }
    },
    {
      "cell_type": "code",
      "source": [
        "# assign x variable\n",
        "x = 10\n",
        "\n",
        "# looping structure using greater than or equal to conditional statement\n",
        "while x >= 0:\n",
        " print(x)\n",
        " x = x-1\n",
        "\n",
        "# message to print once loop has completed\n",
        "print(\"I'm done!\")"
      ],
      "metadata": {
        "id": "jQxO0JvZ2TaP"
      },
      "execution_count": null,
      "outputs": []
    },
    {
      "cell_type": "markdown",
      "source": [
        "134. For more information on `while` loops: https://www.w3schools.com/python/python_while_loops.asp\n",
        "\n",
        "<blockquote>Q3: In your own words, what is iteration?</blockquote>\n",
        "\n",
        "<blockquote>Q4: In your own words, what is the difference between a `for` loop and a `while` loop?</blockquote>\n",
        "\n",
        "# Putting it all together\n",
        "\n",
        "135. The last thing we'll do in this lab is make sure you're comfortable with a few core elements of Python syntax.\n",
        "\n",
        "136. For each component, you're asked to describe the concept in your own words and write an example of the concept using Python syntax.\n",
        "\n",
        "137. These examples do not need to be overly complex.\n",
        "  * Modifying example code provided in the lab is absolutely fine. \n",
        "  * Using things you wrote while working through the lab is absolutely fine. \n",
        "  * Consulting linked resources is fine (include a comment or note that mentions any resources you consulted beyond the lab procedure.\n",
        "\n",
        "Q5: For each concept, describe in your own words and provide an example using Python syntax. Use comments/narrative text to note each part of your answer.\n",
        "- `print()` statement\n",
        "- string variable\n",
        "- integer variable\n",
        "- concatenation\n",
        "- arithmetic operators\n",
        "- comparison operators\n",
        "- dictionary\n",
        "- `if, else, elif` statements\n",
        "- `for` loop\n",
        "- `while` loop\n"
      ],
      "metadata": {
        "id": "TxBMIe3y2VWh"
      }
    },
    {
      "cell_type": "markdown",
      "source": [
        "# Lab Notebook Questions\n",
        "\n",
        "Q1: In your own words, explain the difference between the `print(hello)` command and `print(“hello”)`.\n",
        "\n",
        "Q2: Create your own list of numbers or strings, using the examples in the lab as a starting point. What is the number position for each of the items in your list? How would you return the value of the first item? How would you return the value of the last item?\n",
        "\n",
        "Q3: In your own words, what is iteration?\n",
        "\n",
        "Q4: In your own words, what is the difference between a `for` loop and a `while` loop?\n",
        "\n",
        "Q5: For each concept, describe in your own words and provide an example using Python syntax. Use comments/narrative text to note each part of your answer.\n",
        "- `print()` statement\n",
        "- string variable\n",
        "- integer variable\n",
        "- concatenation\n",
        "- arithmetic operators\n",
        "- comparison operators\n",
        "- dictionary\n",
        "- `if, else, elif` statements\n",
        "- `for` loop\n",
        "- `while` loop"
      ],
      "metadata": {
        "id": "hR-5YZ9q2XCy"
      }
    }
  ]
}